{
 "cells": [
  {
   "cell_type": "code",
   "execution_count": 6,
   "metadata": {},
   "outputs": [],
   "source": [
    "from PIL import Image\n",
    "\n",
    "WIDTH = 400\n",
    "\n",
    "def png_to_coe(png_path, coe_path):\n",
    "    # 打开图像\n",
    "    img = Image.open(png_path)\n",
    "    img = img.convert('RGB')  # 确保图像是RGB格式\n",
    "\n",
    "    # 获取图像的宽度和高度\n",
    "    width, height = img.size\n",
    "\n",
    "    # 获取像素值\n",
    "    pixels = list(img.getdata())\n",
    "\n",
    "    # 打开COE文件进行写入\n",
    "    with open(coe_path, 'w') as coe_file:\n",
    "        # 写入COE文件头\n",
    "        coe_file.write(\"memory_initialization_radix=2;\\n\")\n",
    "        coe_file.write(\"memory_initialization_vector=\\n\")\n",
    "\n",
    "        # 写入像素数据\n",
    "        for i, pixel in enumerate(pixels):\n",
    "            r, g, b = pixel\n",
    "\n",
    "            # 将RGB值转换为24位的十六进制格式\n",
    "            hex_value = f\"{r//16:01X}{g//16:01X}{b//16:01X}\"\n",
    "            if hex_value != '000':\n",
    "                if hex_value[0]==hex_value[1] and hex_value[1]==hex_value[2]:\n",
    "                    bin_value = \"11\"\n",
    "                elif hex_value[0] != 0:\n",
    "                    bin_value = \"10\"\n",
    "                elif hex_value[2] != 0:\n",
    "                    bin_value = \"01\"\n",
    "                else:\n",
    "                    bin_value = \"00\"\n",
    "                    \n",
    "            else:\n",
    "                bin_value = \"00\"\n",
    "            # 在每个像素后面加上逗号，最后一个像素后面加上分号\n",
    "            if i == len(pixels) - 1:\n",
    "                coe_file.write(f\"{bin_value};\\n\")\n",
    "            elif i % WIDTH == WIDTH - 1:\n",
    "                coe_file.write(f\"{bin_value},\\n\")\n",
    "            else:\n",
    "                coe_file.write(f\"{bin_value}, \")\n",
    "\n",
    "    print(f\"Successfully converted {png_path} to {coe_path}\")\n",
    "\n",
    "# 使用示例\n"
   ]
  },
  {
   "cell_type": "code",
   "execution_count": 7,
   "metadata": {},
   "outputs": [
    {
     "name": "stdout",
     "output_type": "stream",
     "text": [
      "Successfully converted start.png to start.coe\n"
     ]
    }
   ],
   "source": [
    "png_to_coe('start.png', 'start.coe')"
   ]
  }
 ],
 "metadata": {
  "kernelspec": {
   "display_name": "base",
   "language": "python",
   "name": "python3"
  },
  "language_info": {
   "codemirror_mode": {
    "name": "ipython",
    "version": 3
   },
   "file_extension": ".py",
   "mimetype": "text/x-python",
   "name": "python",
   "nbconvert_exporter": "python",
   "pygments_lexer": "ipython3",
   "version": "3.11.4"
  }
 },
 "nbformat": 4,
 "nbformat_minor": 2
}
