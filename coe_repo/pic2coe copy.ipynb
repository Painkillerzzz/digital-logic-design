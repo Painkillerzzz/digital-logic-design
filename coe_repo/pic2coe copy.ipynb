{
 "cells": [
  {
   "cell_type": "code",
   "execution_count": 4,
   "metadata": {},
   "outputs": [],
   "source": [
    "import numpy as np \n",
    "from PIL import Image \n",
    "\n",
    "# 图片文件路径\n",
    "img_path = './redball.png'\n",
    "\n",
    "# 调整原图像大小可设置set_size=1,反之为=0\n",
    "set_size = 0\n",
    "img_w = 30 \n",
    "img_h = 30 \n",
    "\n",
    "# 读取图片并做大小调整\n",
    "def gen_img(path): \n",
    "    img = Image.open(path)  \n",
    "    if set_size == 1: \n",
    "        img = img.resize((img_w, img_h), Image.ANTIALIAS)\n",
    "    img = np.array(img)\n",
    "\n",
    "    return img\n",
    "\n",
    "# 分别生成R G B的coe文件\n",
    "def gen_coe(img,name=\"picture\"):\n",
    "    img_R = []\n",
    "    img_G = []\n",
    "    img_B = []\n",
    "    for i in range(img.shape[0]): \n",
    "        for j in range(img.shape[1]): \n",
    "            img_R.append(img[i][j][0])\n",
    "            img_G.append(img[i][j][1])\n",
    "            img_B.append(img[i][j][2])\n",
    "\n",
    "    with open(f'{name}_R.coe', 'w') as f:\n",
    "        f.writelines('memory_initialization_radix = 10;\\nmemory_initialization_vector = ')\n",
    "        for i in range(len(img_R)): \n",
    "            if i % img.shape[1] == 0: \n",
    "                f.write('\\n')\n",
    "            f.write(str(img_R[i]).rjust(4) + ',')\n",
    "    f.close()\n",
    "\n",
    "    with open(f'{name}_G.coe', 'w') as f:\n",
    "        f.writelines('memory_initialization_radix = 10;\\nmemory_initialization_vector = ')\n",
    "        for i in range(len(img_G)): \n",
    "            if i % img.shape[1] == 0: \n",
    "                f.write('\\n')\n",
    "            f.write(str(img_G[i]).rjust(4) + ',')\n",
    "    f.close()\n",
    "\n",
    "    with open(f'{name}_B.coe', 'w') as f:\n",
    "        f.writelines('memory_initialization_radix = 10;\\nmemory_initialization_vector = ')\n",
    "        for i in range(len(img_B)): \n",
    "            if i % img.shape[1] == 0: \n",
    "                f.write('\\n')\n",
    "            f.write(str(img_B[i]).rjust(4) + ',')\n",
    "    f.close()"
   ]
  },
  {
   "cell_type": "code",
   "execution_count": 5,
   "metadata": {},
   "outputs": [],
   "source": [
    "gen_coe(gen_img(img_path),name=\"redball\")"
   ]
  }
 ],
 "metadata": {
  "kernelspec": {
   "display_name": "base",
   "language": "python",
   "name": "python3"
  },
  "language_info": {
   "codemirror_mode": {
    "name": "ipython",
    "version": 3
   },
   "file_extension": ".py",
   "mimetype": "text/x-python",
   "name": "python",
   "nbconvert_exporter": "python",
   "pygments_lexer": "ipython3",
   "version": "3.11.4"
  }
 },
 "nbformat": 4,
 "nbformat_minor": 2
}
