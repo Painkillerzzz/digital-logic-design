{
 "cells": [
  {
   "cell_type": "code",
   "execution_count": 2,
   "metadata": {},
   "outputs": [
    {
     "name": "stdout",
     "output_type": "stream",
     "text": [
      "Successfully converted stage_2.png to s2.coe\n"
     ]
    }
   ],
   "source": [
    "from PIL import Image\n",
    "\n",
    "def png_to_coe(png_path, coe_path):\n",
    "    # 打开图像\n",
    "    img = Image.open(png_path)\n",
    "    img = img.convert('RGB')  # 确保图像是RGB格式\n",
    "\n",
    "    # 获取图像的宽度和高度\n",
    "    width, height = img.size\n",
    "\n",
    "    # 获取像素值\n",
    "    pixels = list(img.getdata())\n",
    "\n",
    "    # 打开COE文件进行写入\n",
    "    with open(coe_path, 'w') as coe_file:\n",
    "        # 写入COE文件头\n",
    "        coe_file.write(\"memory_initialization_radix=16;\\n\")\n",
    "        coe_file.write(\"memory_initialization_vector=\\n\")\n",
    "\n",
    "        # 写入像素数据\n",
    "        for i, pixel in enumerate(pixels):\n",
    "            r, g, b = pixel\n",
    "            # 将RGB值转换为24位的十六进制格式\n",
    "            hex_value = f\"{r:02X}{g:02X}{b:02X}\"\n",
    "            # 在每个像素后面加上逗号，最后一个像素后面加上分号\n",
    "            if i < len(pixels) - 1:\n",
    "                coe_file.write(f\"{hex_value},\\n\")\n",
    "            else:\n",
    "                coe_file.write(f\"{hex_value};\\n\")\n",
    "\n",
    "    print(f\"Successfully converted {png_path} to {coe_path}\")\n",
    "\n",
    "# 使用示例\n",
    "png_to_coe('stage_2.png', 's2.coe')\n"
   ]
  },
  {
   "cell_type": "code",
   "execution_count": 2,
   "metadata": {},
   "outputs": [],
   "source": []
  }
 ],
 "metadata": {
  "kernelspec": {
   "display_name": "base",
   "language": "python",
   "name": "python3"
  },
  "language_info": {
   "codemirror_mode": {
    "name": "ipython",
    "version": 3
   },
   "file_extension": ".py",
   "mimetype": "text/x-python",
   "name": "python",
   "nbconvert_exporter": "python",
   "pygments_lexer": "ipython3",
   "version": "3.11.4"
  }
 },
 "nbformat": 4,
 "nbformat_minor": 2
}
